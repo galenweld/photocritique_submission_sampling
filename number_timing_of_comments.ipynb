{
 "cells": [
  {
   "cell_type": "code",
   "execution_count": 34,
   "metadata": {},
   "outputs": [],
   "source": [
    "import os\n",
    "from glob import glob\n",
    "\n",
    "import numpy as np\n",
    "import pandas as pd\n",
    "import matplotlib.pyplot as plt\n",
    "import seaborn as sns"
   ]
  },
  {
   "cell_type": "code",
   "execution_count": 2,
   "metadata": {},
   "outputs": [],
   "source": [
    "comments_dir = '/projects/bdata/bdatasets/photocritique/comments_jun_2021/'\n",
    "posts_dir = '/projects/bdata/bdatasets/photocritique/posts_jun_2021/'"
   ]
  },
  {
   "cell_type": "code",
   "execution_count": 3,
   "metadata": {},
   "outputs": [],
   "source": [
    "comments_dtype = {\n",
    "    'id'          : 'str',\n",
    "    'subreddit'   : 'str',\n",
    "    'link_id'     : 'str',\n",
    "    'author'      : 'str',\n",
    "    'created_utc' : 'int',\n",
    "    'score'       : 'int',\n",
    "    'body'        : 'str',\n",
    "}"
   ]
  },
  {
   "cell_type": "code",
   "execution_count": 4,
   "metadata": {},
   "outputs": [],
   "source": [
    "posts_dtype = {\n",
    "    'id'          : 'str',\n",
    "    'subreddit'   : 'str', \n",
    "    'author'      : 'str', \n",
    "    'created_utc' : 'int', \n",
    "    'score'       : 'int', \n",
    "    'title'       : 'str', \n",
    "    'url'         : 'str',\n",
    "}"
   ]
  },
  {
   "cell_type": "code",
   "execution_count": 5,
   "metadata": {},
   "outputs": [
    {
     "name": "stdout",
     "output_type": "stream",
     "text": [
      "Loaded 8482 comments from 1,960 files.\n"
     ]
    }
   ],
   "source": [
    "comments = pd.concat(\n",
    "    [pd.read_json(p, lines=True, dtype=comments_dtype) for p in glob(os.path.join(comments_dir, 'part-*.json'))],\n",
    "    axis = 'index',\n",
    ")\n",
    "print(f'Loaded {len(comments)} comments from {len(glob(os.path.join(comments_dir, \"part-*.json\"))):,d} files.')"
   ]
  },
  {
   "cell_type": "code",
   "execution_count": 6,
   "metadata": {},
   "outputs": [
    {
     "name": "stdout",
     "output_type": "stream",
     "text": [
      "Loaded 1718 posts from 810 files.\n"
     ]
    }
   ],
   "source": [
    "posts = pd.concat(\n",
    "    [pd.read_json(p, lines=True, dtype=posts_dtype) for p in glob(os.path.join(posts_dir, 'part-*.json'))],\n",
    "    axis = 'index',\n",
    ")\n",
    "print(f'Loaded {len(posts)} posts from {len(glob(os.path.join(posts_dir, \"part-*.json\"))):,d} files.')"
   ]
  },
  {
   "cell_type": "code",
   "execution_count": 7,
   "metadata": {},
   "outputs": [],
   "source": [
    "# need new index since the previous one is a mismatch of all the sub dfs we concat'd\n",
    "comments.index = pd.RangeIndex(stop=len(comments))\n",
    "posts.index    = pd.RangeIndex(stop=len(posts))"
   ]
  },
  {
   "cell_type": "code",
   "execution_count": 8,
   "metadata": {},
   "outputs": [],
   "source": [
    "comments.loc[:,'created_utc'] = pd.to_datetime(comments.created_utc, unit='s')\n",
    "posts.loc[   :,'created_utc'] = pd.to_datetime(   posts.created_utc, unit='s')"
   ]
  },
  {
   "cell_type": "code",
   "execution_count": 9,
   "metadata": {},
   "outputs": [],
   "source": [
    "# for now, exclude automod comments\n",
    "comments = comments.loc[comments.author!='AutoModerator',:]"
   ]
  },
  {
   "cell_type": "markdown",
   "metadata": {},
   "source": [
    "# number of comments per post\n",
    "\n",
    "start by counting then join"
   ]
  },
  {
   "cell_type": "code",
   "execution_count": 10,
   "metadata": {},
   "outputs": [],
   "source": [
    "num_comments = comments.groupby(by='link_id').agg({'subreddit':'count'}).subreddit.rename('num_comments')\n",
    "num_comments.index = num_comments.index.str.slice(start=3)"
   ]
  },
  {
   "cell_type": "code",
   "execution_count": 11,
   "metadata": {},
   "outputs": [],
   "source": [
    "posts = posts.join(num_comments, on='id', how='left')\n",
    "posts = posts.fillna(value={'num_comments':0})"
   ]
  },
  {
   "cell_type": "code",
   "execution_count": 12,
   "metadata": {},
   "outputs": [
    {
     "data": {
      "text/plain": [
       "count    1718.000000\n",
       "mean        3.870780\n",
       "std         9.000463\n",
       "min         0.000000\n",
       "25%         0.000000\n",
       "50%         1.000000\n",
       "75%         4.000000\n",
       "max       142.000000\n",
       "Name: num_comments, dtype: float64"
      ]
     },
     "execution_count": 12,
     "metadata": {},
     "output_type": "execute_result"
    }
   ],
   "source": [
    "posts.num_comments.describe()"
   ]
  },
  {
   "cell_type": "code",
   "execution_count": 13,
   "metadata": {},
   "outputs": [
    {
     "data": {
      "text/html": [
       "<div>\n",
       "<style scoped>\n",
       "    .dataframe tbody tr th:only-of-type {\n",
       "        vertical-align: middle;\n",
       "    }\n",
       "\n",
       "    .dataframe tbody tr th {\n",
       "        vertical-align: top;\n",
       "    }\n",
       "\n",
       "    .dataframe thead th {\n",
       "        text-align: right;\n",
       "    }\n",
       "</style>\n",
       "<table border=\"1\" class=\"dataframe\">\n",
       "  <thead>\n",
       "    <tr style=\"text-align: right;\">\n",
       "      <th></th>\n",
       "      <th>id</th>\n",
       "      <th>subreddit</th>\n",
       "      <th>link_id</th>\n",
       "      <th>author</th>\n",
       "      <th>created_utc</th>\n",
       "      <th>score</th>\n",
       "      <th>body</th>\n",
       "    </tr>\n",
       "  </thead>\n",
       "  <tbody>\n",
       "    <tr>\n",
       "      <th>0</th>\n",
       "      <td>h0kp9tg</td>\n",
       "      <td>photocritique</td>\n",
       "      <td>t3_nrztco</td>\n",
       "      <td>ITGuyToTheRescue</td>\n",
       "      <td>2021-06-04 15:03:26</td>\n",
       "      <td>1</td>\n",
       "      <td>That’s a very interesting take. Thanks for the...</td>\n",
       "    </tr>\n",
       "    <tr>\n",
       "      <th>1</th>\n",
       "      <td>h0kpqny</td>\n",
       "      <td>photocritique</td>\n",
       "      <td>t3_ns2hid</td>\n",
       "      <td>Shoogled</td>\n",
       "      <td>2021-06-04 15:06:56</td>\n",
       "      <td>33</td>\n",
       "      <td>I do find it disappointing when these details ...</td>\n",
       "    </tr>\n",
       "    <tr>\n",
       "      <th>2</th>\n",
       "      <td>h0kqd6s</td>\n",
       "      <td>photocritique</td>\n",
       "      <td>t3_ns2hid</td>\n",
       "      <td>[deleted]</td>\n",
       "      <td>2021-06-04 15:11:31</td>\n",
       "      <td>1</td>\n",
       "      <td>[removed]</td>\n",
       "    </tr>\n",
       "    <tr>\n",
       "      <th>3</th>\n",
       "      <td>h0kqgca</td>\n",
       "      <td>photocritique</td>\n",
       "      <td>t3_nrxggh</td>\n",
       "      <td>IAmScience</td>\n",
       "      <td>2021-06-04 15:12:10</td>\n",
       "      <td>1</td>\n",
       "      <td>&amp;gt; im still struggling with the composition ...</td>\n",
       "    </tr>\n",
       "    <tr>\n",
       "      <th>5</th>\n",
       "      <td>h0kqrsg</td>\n",
       "      <td>photocritique</td>\n",
       "      <td>t3_ns2hid</td>\n",
       "      <td>ITdoug</td>\n",
       "      <td>2021-06-04 15:14:31</td>\n",
       "      <td>4</td>\n",
       "      <td>Nice crop. I do prefer the original as, in my ...</td>\n",
       "    </tr>\n",
       "    <tr>\n",
       "      <th>...</th>\n",
       "      <td>...</td>\n",
       "      <td>...</td>\n",
       "      <td>...</td>\n",
       "      <td>...</td>\n",
       "      <td>...</td>\n",
       "      <td>...</td>\n",
       "      <td>...</td>\n",
       "    </tr>\n",
       "    <tr>\n",
       "      <th>8475</th>\n",
       "      <td>h0x3ugw</td>\n",
       "      <td>photocritique</td>\n",
       "      <td>t3_nufgdf</td>\n",
       "      <td>jakeisnt</td>\n",
       "      <td>2021-06-07 15:35:08</td>\n",
       "      <td>1</td>\n",
       "      <td>I took this photo driving around in Boston at ...</td>\n",
       "    </tr>\n",
       "    <tr>\n",
       "      <th>8477</th>\n",
       "      <td>h0x4g92</td>\n",
       "      <td>photocritique</td>\n",
       "      <td>t3_nu51z1</td>\n",
       "      <td>rriskm</td>\n",
       "      <td>2021-06-07 15:39:25</td>\n",
       "      <td>1</td>\n",
       "      <td>Of couse! I just havent decided on a good one ...</td>\n",
       "    </tr>\n",
       "    <tr>\n",
       "      <th>8478</th>\n",
       "      <td>h0x4xbt</td>\n",
       "      <td>photocritique</td>\n",
       "      <td>t3_nufix7</td>\n",
       "      <td>courtney7070</td>\n",
       "      <td>2021-06-07 15:42:53</td>\n",
       "      <td>1</td>\n",
       "      <td>I really want her features to show through, ra...</td>\n",
       "    </tr>\n",
       "    <tr>\n",
       "      <th>8480</th>\n",
       "      <td>h11zhru</td>\n",
       "      <td>photocritique</td>\n",
       "      <td>t3_nuae6r</td>\n",
       "      <td>SarcasticNarcissist1</td>\n",
       "      <td>2021-06-08 17:54:51</td>\n",
       "      <td>2</td>\n",
       "      <td>I didn't think much about the green at first b...</td>\n",
       "    </tr>\n",
       "    <tr>\n",
       "      <th>8481</th>\n",
       "      <td>h11zshy</td>\n",
       "      <td>photocritique</td>\n",
       "      <td>t3_nva0on</td>\n",
       "      <td>tbrozovich</td>\n",
       "      <td>2021-06-08 17:56:54</td>\n",
       "      <td>2</td>\n",
       "      <td>Hello,\\n\\nI took this image in Maui with my DJ...</td>\n",
       "    </tr>\n",
       "  </tbody>\n",
       "</table>\n",
       "<p>6757 rows × 7 columns</p>\n",
       "</div>"
      ],
      "text/plain": [
       "           id      subreddit    link_id                author  \\\n",
       "0     h0kp9tg  photocritique  t3_nrztco      ITGuyToTheRescue   \n",
       "1     h0kpqny  photocritique  t3_ns2hid              Shoogled   \n",
       "2     h0kqd6s  photocritique  t3_ns2hid             [deleted]   \n",
       "3     h0kqgca  photocritique  t3_nrxggh            IAmScience   \n",
       "5     h0kqrsg  photocritique  t3_ns2hid                ITdoug   \n",
       "...       ...            ...        ...                   ...   \n",
       "8475  h0x3ugw  photocritique  t3_nufgdf              jakeisnt   \n",
       "8477  h0x4g92  photocritique  t3_nu51z1                rriskm   \n",
       "8478  h0x4xbt  photocritique  t3_nufix7          courtney7070   \n",
       "8480  h11zhru  photocritique  t3_nuae6r  SarcasticNarcissist1   \n",
       "8481  h11zshy  photocritique  t3_nva0on            tbrozovich   \n",
       "\n",
       "             created_utc  score  \\\n",
       "0    2021-06-04 15:03:26      1   \n",
       "1    2021-06-04 15:06:56     33   \n",
       "2    2021-06-04 15:11:31      1   \n",
       "3    2021-06-04 15:12:10      1   \n",
       "5    2021-06-04 15:14:31      4   \n",
       "...                  ...    ...   \n",
       "8475 2021-06-07 15:35:08      1   \n",
       "8477 2021-06-07 15:39:25      1   \n",
       "8478 2021-06-07 15:42:53      1   \n",
       "8480 2021-06-08 17:54:51      2   \n",
       "8481 2021-06-08 17:56:54      2   \n",
       "\n",
       "                                                   body  \n",
       "0     That’s a very interesting take. Thanks for the...  \n",
       "1     I do find it disappointing when these details ...  \n",
       "2                                             [removed]  \n",
       "3     &gt; im still struggling with the composition ...  \n",
       "5     Nice crop. I do prefer the original as, in my ...  \n",
       "...                                                 ...  \n",
       "8475  I took this photo driving around in Boston at ...  \n",
       "8477  Of couse! I just havent decided on a good one ...  \n",
       "8478  I really want her features to show through, ra...  \n",
       "8480  I didn't think much about the green at first b...  \n",
       "8481  Hello,\\n\\nI took this image in Maui with my DJ...  \n",
       "\n",
       "[6757 rows x 7 columns]"
      ]
     },
     "execution_count": 13,
     "metadata": {},
     "output_type": "execute_result"
    }
   ],
   "source": [
    "comments.loc[comments.author!='AutoModerator',:]"
   ]
  },
  {
   "cell_type": "markdown",
   "metadata": {},
   "source": [
    "# comment length"
   ]
  },
  {
   "cell_type": "code",
   "execution_count": 16,
   "metadata": {},
   "outputs": [
    {
     "data": {
      "text/plain": [
       "count    6757.000000\n",
       "mean      254.505994\n",
       "std       307.217750\n",
       "min         1.000000\n",
       "25%        62.000000\n",
       "50%       170.000000\n",
       "75%       335.000000\n",
       "max      5394.000000\n",
       "Name: body, dtype: float64"
      ]
     },
     "execution_count": 16,
     "metadata": {},
     "output_type": "execute_result"
    }
   ],
   "source": [
    "comments.body.str.len().describe()"
   ]
  },
  {
   "cell_type": "markdown",
   "metadata": {},
   "source": [
    "# age of comments"
   ]
  },
  {
   "cell_type": "code",
   "execution_count": 23,
   "metadata": {},
   "outputs": [],
   "source": [
    "post_times = posts.set_index('id').created_utc\n",
    "post_times.index = 't3_' + post_times.index"
   ]
  },
  {
   "cell_type": "code",
   "execution_count": 28,
   "metadata": {},
   "outputs": [],
   "source": [
    "comments = comments.join(post_times, on='link_id', rsuffix='_post', how='left')"
   ]
  },
  {
   "cell_type": "code",
   "execution_count": 31,
   "metadata": {},
   "outputs": [],
   "source": [
    "comments.loc[:,'post_age_at_time_of_comment'] = comments.created_utc - comments.created_utc_post"
   ]
  },
  {
   "cell_type": "code",
   "execution_count": 40,
   "metadata": {},
   "outputs": [
    {
     "data": {
      "text/plain": [
       "0      0 days 06:53:47\n",
       "1      0 days 04:01:25\n",
       "2      0 days 04:06:00\n",
       "3      0 days 09:45:11\n",
       "5      0 days 04:09:00\n",
       "             ...      \n",
       "8475   0 days 00:00:06\n",
       "8477   0 days 09:58:16\n",
       "8478   0 days 00:04:49\n",
       "8480   1 days 06:09:22\n",
       "8481   0 days 00:06:14\n",
       "Name: post_age_at_time_of_comment, Length: 6757, dtype: timedelta64[ns]"
      ]
     },
     "execution_count": 40,
     "metadata": {},
     "output_type": "execute_result"
    }
   ],
   "source": [
    "comments.post_age_at_time_of_comment"
   ]
  },
  {
   "cell_type": "code",
   "execution_count": 64,
   "metadata": {},
   "outputs": [],
   "source": [
    "total_hours = comments.post_age_at_time_of_comment.dt.total_seconds() / 3600\n",
    "\n",
    "xs = np.linspace(0, 80, num=1000)\n",
    "ys = []\n",
    "\n",
    "for x in xs:\n",
    "    ys.append( ( total_hours <= x ).sum() / len(total_hours) )"
   ]
  },
  {
   "cell_type": "code",
   "execution_count": 65,
   "metadata": {},
   "outputs": [],
   "source": [
    "annot_xs = [3, 6, 12, 24, 48, 72]\n",
    "annot_ys = []\n",
    "\n",
    "for x in annot_xs:\n",
    "    annot_ys.append( ( total_hours <= x ).sum() / len(total_hours) )"
   ]
  },
  {
   "cell_type": "code",
   "execution_count": 66,
   "metadata": {},
   "outputs": [
    {
     "data": {
      "image/png": "[encoded data removed]",
      "text/plain": [
       "<Figure size 720x576 with 1 Axes>"
      ]
     },
     "metadata": {
      "needs_background": "light"
     },
     "output_type": "display_data"
    }
   ],
   "source": [
    "plt.figure(figsize=(10,8))\n",
    "\n",
    "plt.plot(xs, ys)\n",
    "\n",
    "for x,y in zip(annot_xs, annot_ys):\n",
    "    plt.scatter([x],[y], color='black', marker='.', s=100)\n",
    "    plt.text(x+.1, y-.01, s=f'{100*y:.1f}%\\nat {x} hrs', ha='left', va='top')\n",
    "\n",
    "plt.title('CDF of Age of Post at time of Comment')\n",
    "plt.xlabel('Hours After Posting')\n",
    "plt.ylabel('Fraction of Comments')\n",
    "\n",
    "plt.show()"
   ]
  },
  {
   "cell_type": "code",
   "execution_count": null,
   "metadata": {},
   "outputs": [],
   "source": []
  }
 ],
 "metadata": {
  "kernelspec": {
   "display_name": "Python [conda env:reddit]",
   "language": "python",
   "name": "conda-env-reddit-py"
  },
  "language_info": {
   "codemirror_mode": {
    "name": "ipython",
    "version": 3
   },
   "file_extension": ".py",
   "mimetype": "text/x-python",
   "name": "python",
   "nbconvert_exporter": "python",
   "pygments_lexer": "ipython3",
   "version": "3.8.10"
  }
 },
 "nbformat": 4,
 "nbformat_minor": 4
}
